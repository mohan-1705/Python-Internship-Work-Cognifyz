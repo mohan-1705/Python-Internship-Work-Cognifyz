{
 "cells": [
  {
   "cell_type": "code",
   "execution_count": null,
   "id": "ac024222-3fe6-4e2f-bcfb-847efb29c533",
   "metadata": {},
   "outputs": [],
   "source": [
    "Task-1 Guessing Game"
   ]
  },
  {
   "cell_type": "code",
   "execution_count": null,
   "id": "205dc4c9-b518-4997-a89c-b731f3ae7ea6",
   "metadata": {},
   "outputs": [
    {
     "name": "stdout",
     "output_type": "stream",
     "text": [
      "Welcome to the Guessing Game!\n",
      "I have selected a number between 1 and 100. Try to guess it!\n"
     ]
    },
    {
     "name": "stdin",
     "output_type": "stream",
     "text": [
      "Enter your guess:  1\n"
     ]
    },
    {
     "name": "stdout",
     "output_type": "stream",
     "text": [
      "Too low! Try again.\n"
     ]
    },
    {
     "name": "stdin",
     "output_type": "stream",
     "text": [
      "Enter your guess:  99\n"
     ]
    },
    {
     "name": "stdout",
     "output_type": "stream",
     "text": [
      "Too high! Try again.\n"
     ]
    },
    {
     "name": "stdin",
     "output_type": "stream",
     "text": [
      "Enter your guess:  98\n"
     ]
    },
    {
     "name": "stdout",
     "output_type": "stream",
     "text": [
      "Too high! Try again.\n"
     ]
    },
    {
     "name": "stdin",
     "output_type": "stream",
     "text": [
      "Enter your guess:  100\n"
     ]
    },
    {
     "name": "stdout",
     "output_type": "stream",
     "text": [
      "Too high! Try again.\n"
     ]
    },
    {
     "name": "stdin",
     "output_type": "stream",
     "text": [
      "Enter your guess:  50\n"
     ]
    },
    {
     "name": "stdout",
     "output_type": "stream",
     "text": [
      "Too low! Try again.\n"
     ]
    },
    {
     "name": "stdin",
     "output_type": "stream",
     "text": [
      "Enter your guess:  55\n"
     ]
    },
    {
     "name": "stdout",
     "output_type": "stream",
     "text": [
      "Too low! Try again.\n"
     ]
    },
    {
     "name": "stdin",
     "output_type": "stream",
     "text": [
      "Enter your guess:  51\n"
     ]
    },
    {
     "name": "stdout",
     "output_type": "stream",
     "text": [
      "Too low! Try again.\n"
     ]
    },
    {
     "name": "stdin",
     "output_type": "stream",
     "text": [
      "Enter your guess:  65\n"
     ]
    },
    {
     "name": "stdout",
     "output_type": "stream",
     "text": [
      "Too low! Try again.\n"
     ]
    },
    {
     "name": "stdin",
     "output_type": "stream",
     "text": [
      "Enter your guess:  61\n"
     ]
    },
    {
     "name": "stdout",
     "output_type": "stream",
     "text": [
      "Too low! Try again.\n"
     ]
    },
    {
     "name": "stdin",
     "output_type": "stream",
     "text": [
      "Enter your guess:  75\n"
     ]
    },
    {
     "name": "stdout",
     "output_type": "stream",
     "text": [
      "Too low! Try again.\n"
     ]
    },
    {
     "name": "stdin",
     "output_type": "stream",
     "text": [
      "Enter your guess:  71\n"
     ]
    },
    {
     "name": "stdout",
     "output_type": "stream",
     "text": [
      "Too low! Try again.\n"
     ]
    },
    {
     "name": "stdin",
     "output_type": "stream",
     "text": [
      "Enter your guess:  85\n"
     ]
    },
    {
     "name": "stdout",
     "output_type": "stream",
     "text": [
      "Too low! Try again.\n"
     ]
    },
    {
     "name": "stdin",
     "output_type": "stream",
     "text": [
      "Enter your guess:  81\n"
     ]
    },
    {
     "name": "stdout",
     "output_type": "stream",
     "text": [
      "Too low! Try again.\n"
     ]
    },
    {
     "name": "stdin",
     "output_type": "stream",
     "text": [
      "Enter your guess:  95\n"
     ]
    },
    {
     "name": "stdout",
     "output_type": "stream",
     "text": [
      "Too high! Try again.\n"
     ]
    },
    {
     "name": "stdin",
     "output_type": "stream",
     "text": [
      "Enter your guess:  91\n"
     ]
    },
    {
     "name": "stdout",
     "output_type": "stream",
     "text": [
      "Too high! Try again.\n"
     ]
    }
   ],
   "source": [
    "import random\n",
    "\n",
    "def guessing_game():\n",
    "    number_to_guess = random.randint(1, 100)\n",
    "    guessed = False\n",
    "\n",
    "    print(\"Welcome to the Guessing Game!\")\n",
    "    print(\"I have selected a number between 1 and 100. Try to guess it!\")\n",
    "\n",
    "    while not guessed:\n",
    "        try:\n",
    "            user_guess = int(input(\"Enter your guess: \"))\n",
    "            if user_guess < 1 or user_guess > 100:\n",
    "                print(\"Please guess a number between 1 and 100.\")\n",
    "            elif user_guess < number_to_guess:\n",
    "                print(\"Too low! Try again.\")\n",
    "            elif user_guess > number_to_guess:\n",
    "                print(\"Too high! Try again.\")\n",
    "            else:\n",
    "                print(\"Congratulations! You guessed the correct number!\")\n",
    "                guessed = True\n",
    "        except ValueError:\n",
    "            print(\"Please enter a valid number.\")\n",
    "\n",
    "if __name__ == \"__main__\":\n",
    "    guessing_game()\n"
   ]
  },
  {
   "cell_type": "code",
   "execution_count": null,
   "id": "dea1807f-c219-4100-b893-620dc701bcd0",
   "metadata": {},
   "outputs": [],
   "source": [
    "Task-2    Number Guesser"
   ]
  },
  {
   "cell_type": "code",
   "execution_count": 2,
   "id": "b56ce85e-cfd0-4f85-8fb4-fb2ed9b4a89d",
   "metadata": {},
   "outputs": [
    {
     "name": "stdout",
     "output_type": "stream",
     "text": [
      "Welcome to the Number Guesser Game!\n"
     ]
    },
    {
     "name": "stdin",
     "output_type": "stream",
     "text": [
      "Enter the lower bound of the range:  10\n",
      "Enter the upper bound of the range:  20\n"
     ]
    },
    {
     "name": "stdout",
     "output_type": "stream",
     "text": [
      "I have selected a number between 10 and 20. Try to guess it!\n"
     ]
    },
    {
     "name": "stdin",
     "output_type": "stream",
     "text": [
      "Enter your guess:  12\n"
     ]
    },
    {
     "name": "stdout",
     "output_type": "stream",
     "text": [
      "Too low! Try again.\n"
     ]
    },
    {
     "name": "stdin",
     "output_type": "stream",
     "text": [
      "Enter your guess:  19\n"
     ]
    },
    {
     "name": "stdout",
     "output_type": "stream",
     "text": [
      "Too high! Try again.\n"
     ]
    },
    {
     "name": "stdin",
     "output_type": "stream",
     "text": [
      "Enter your guess:  10\n"
     ]
    },
    {
     "name": "stdout",
     "output_type": "stream",
     "text": [
      "Too low! Try again.\n"
     ]
    },
    {
     "name": "stdin",
     "output_type": "stream",
     "text": [
      "Enter your guess:  15\n"
     ]
    },
    {
     "name": "stdout",
     "output_type": "stream",
     "text": [
      "Too high! Try again.\n"
     ]
    },
    {
     "name": "stdin",
     "output_type": "stream",
     "text": [
      "Enter your guess:  17\n"
     ]
    },
    {
     "name": "stdout",
     "output_type": "stream",
     "text": [
      "Too high! Try again.\n"
     ]
    },
    {
     "name": "stdin",
     "output_type": "stream",
     "text": [
      "Enter your guess:  20\n"
     ]
    },
    {
     "name": "stdout",
     "output_type": "stream",
     "text": [
      "Too high! Try again.\n"
     ]
    },
    {
     "name": "stdin",
     "output_type": "stream",
     "text": [
      "Enter your guess:  11\n"
     ]
    },
    {
     "name": "stdout",
     "output_type": "stream",
     "text": [
      "Too low! Try again.\n"
     ]
    },
    {
     "name": "stdin",
     "output_type": "stream",
     "text": [
      "Enter your guess:  12\n"
     ]
    },
    {
     "name": "stdout",
     "output_type": "stream",
     "text": [
      "Too low! Try again.\n"
     ]
    },
    {
     "name": "stdin",
     "output_type": "stream",
     "text": [
      "Enter your guess:  14\n"
     ]
    },
    {
     "name": "stdout",
     "output_type": "stream",
     "text": [
      "Congratulations! You guessed the correct number!\n"
     ]
    }
   ],
   "source": [
    "import random\n",
    "\n",
    "def number_guesser():\n",
    "    print(\"Welcome to the Number Guesser Game!\")\n",
    "\n",
    "    # Get the range from the user\n",
    "    try:\n",
    "        lower_bound = int(input(\"Enter the lower bound of the range: \"))\n",
    "        upper_bound = int(input(\"Enter the upper bound of the range: \"))\n",
    "        \n",
    "        if lower_bound >= upper_bound:\n",
    "            print(\"The lower bound must be less than the upper bound.\")\n",
    "            return\n",
    "\n",
    "    except ValueError:\n",
    "        print(\"Please enter valid integers for the range.\")\n",
    "        return\n",
    "\n",
    "    number_to_guess = random.randint(lower_bound, upper_bound)\n",
    "    guessed = False\n",
    "\n",
    "    print(f\"I have selected a number between {lower_bound} and {upper_bound}. Try to guess it!\")\n",
    "\n",
    "    while not guessed:\n",
    "        try:\n",
    "            user_guess = int(input(\"Enter your guess: \"))\n",
    "            if user_guess < lower_bound or user_guess > upper_bound:\n",
    "                print(f\"Please guess a number between {lower_bound} and {upper_bound}.\")\n",
    "            elif user_guess < number_to_guess:\n",
    "                print(\"Too low! Try again.\")\n",
    "            elif user_guess > number_to_guess:\n",
    "                print(\"Too high! Try again.\")\n",
    "            else:\n",
    "                print(\"Congratulations! You guessed the correct number!\")\n",
    "                guessed = True\n",
    "        except ValueError:\n",
    "            print(\"Please enter a valid number.\")\n",
    "\n",
    "if __name__ == \"__main__\":\n",
    "    number_guesser()\n"
   ]
  },
  {
   "cell_type": "code",
   "execution_count": null,
   "id": "6eb53d28-7506-44bf-8701-17b441b7d3ab",
   "metadata": {},
   "outputs": [],
   "source": [
    "Task-3   Password Strength Checker"
   ]
  },
  {
   "cell_type": "code",
   "execution_count": 1,
   "id": "ccecac07-ef88-4cc7-8966-e613c8042149",
   "metadata": {},
   "outputs": [
    {
     "name": "stdin",
     "output_type": "stream",
     "text": [
      "Enter a password to check its strength:  Chmr#123\n"
     ]
    },
    {
     "name": "stdout",
     "output_type": "stream",
     "text": [
      "Password strength: Strong\n",
      "Criteria met:\n",
      "  - Length >= 8 characters: Yes\n",
      "  - Contains uppercase letters: Yes\n",
      "  - Contains lowercase letters: Yes\n",
      "  - Contains digits: Yes\n",
      "  - Contains special characters (@$!%*?&): No\n",
      "\n"
     ]
    }
   ],
   "source": [
    "import re\n",
    "\n",
    "def password_strength_checker(password):\n",
    "    # Define criteria\n",
    "    length_criteria = len(password) >= 8\n",
    "    uppercase_criteria = re.search(r'[A-Z]', password) is not None\n",
    "    lowercase_criteria = re.search(r'[a-z]', password) is not None\n",
    "    digit_criteria = re.search(r'[0-9]', password) is not None\n",
    "    special_char_criteria = re.search(r'[@$!%*?&]', password) is not None\n",
    "\n",
    "    # Evaluate strength\n",
    "    criteria_met = sum([length_criteria, uppercase_criteria, lowercase_criteria, digit_criteria, special_char_criteria])\n",
    "\n",
    "    # Strength evaluation based on criteria met\n",
    "    if criteria_met == 5:\n",
    "        strength = \"Very Strong\"\n",
    "    elif criteria_met == 4:\n",
    "        strength = \"Strong\"\n",
    "    elif criteria_met == 3:\n",
    "        strength = \"Moderate\"\n",
    "    elif criteria_met == 2:\n",
    "        strength = \"Weak\"\n",
    "    else:\n",
    "        strength = \"Very Weak\"\n",
    "\n",
    "    # Feedback to the user\n",
    "    feedback = \"Password strength: \" + strength + \"\\n\"\n",
    "    feedback += \"Criteria met:\\n\"\n",
    "    feedback += \"  - Length >= 8 characters: \" + (\"Yes\" if length_criteria else \"No\") + \"\\n\"\n",
    "    feedback += \"  - Contains uppercase letters: \" + (\"Yes\" if uppercase_criteria else \"No\") + \"\\n\"\n",
    "    feedback += \"  - Contains lowercase letters: \" + (\"Yes\" if lowercase_criteria else \"No\") + \"\\n\"\n",
    "    feedback += \"  - Contains digits: \" + (\"Yes\" if digit_criteria else \"No\") + \"\\n\"\n",
    "    feedback += \"  - Contains special characters (@$!%*?&): \" + (\"Yes\" if special_char_criteria else \"No\") + \"\\n\"\n",
    "\n",
    "    return feedback\n",
    "\n",
    "# Example usage\n",
    "password = input(\"Enter a password to check its strength: \")\n",
    "print(password_strength_checker(password))\n"
   ]
  },
  {
   "cell_type": "code",
   "execution_count": null,
   "id": "c4bb7959-408e-440a-ab06-a9385bd3a4e0",
   "metadata": {},
   "outputs": [],
   "source": [
    "Task-4   Fibonacci Sequence"
   ]
  },
  {
   "cell_type": "code",
   "execution_count": 4,
   "id": "0fc9b3cd-86c2-48cd-babf-a6115e9a624a",
   "metadata": {},
   "outputs": [
    {
     "name": "stdin",
     "output_type": "stream",
     "text": [
      "Enter the number of terms:  100\n"
     ]
    },
    {
     "name": "stdout",
     "output_type": "stream",
     "text": [
      "Fibonacci sequence up to 100 terms:\n",
      "[0, 1, 1, 2, 3, 5, 8, 13, 21, 34, 55, 89, 144, 233, 377, 610, 987, 1597, 2584, 4181, 6765, 10946, 17711, 28657, 46368, 75025, 121393, 196418, 317811, 514229, 832040, 1346269, 2178309, 3524578, 5702887, 9227465, 14930352, 24157817, 39088169, 63245986, 102334155, 165580141, 267914296, 433494437, 701408733, 1134903170, 1836311903, 2971215073, 4807526976, 7778742049, 12586269025, 20365011074, 32951280099, 53316291173, 86267571272, 139583862445, 225851433717, 365435296162, 591286729879, 956722026041, 1548008755920, 2504730781961, 4052739537881, 6557470319842, 10610209857723, 17167680177565, 27777890035288, 44945570212853, 72723460248141, 117669030460994, 190392490709135, 308061521170129, 498454011879264, 806515533049393, 1304969544928657, 2111485077978050, 3416454622906707, 5527939700884757, 8944394323791464, 14472334024676221, 23416728348467685, 37889062373143906, 61305790721611591, 99194853094755497, 160500643816367088, 259695496911122585, 420196140727489673, 679891637638612258, 1100087778366101931, 1779979416004714189, 2880067194370816120, 4660046610375530309, 7540113804746346429, 12200160415121876738, 19740274219868223167, 31940434634990099905, 51680708854858323072, 83621143489848422977, 135301852344706746049, 218922995834555169026]\n"
     ]
    }
   ],
   "source": [
    "def fibonacci_sequence(n):\n",
    "    if n <= 0:\n",
    "        return \"Please enter a positive integer.\"\n",
    "    \n",
    "    sequence = []\n",
    "    \n",
    "    # First two terms\n",
    "    a, b = 0, 1\n",
    "    \n",
    "    for _ in range(n):\n",
    "        sequence.append(a)\n",
    "        a, b = b, a + b\n",
    "        \n",
    "    return sequence\n",
    "\n",
    "# Example usage\n",
    "try:\n",
    "    num_terms = int(input(\"Enter the number of terms: \"))\n",
    "    result = fibonacci_sequence(num_terms)\n",
    "    print(\"Fibonacci sequence up to\", num_terms, \"terms:\")\n",
    "    print(result)\n",
    "except ValueError:\n",
    "    print(\"Please enter a valid integer.\")\n"
   ]
  },
  {
   "cell_type": "code",
   "execution_count": null,
   "id": "608f766b-f3c2-4c7c-aa47-3f1e92c8e58c",
   "metadata": {},
   "outputs": [],
   "source": [
    "Task-5    File Manuplation"
   ]
  },
  {
   "cell_type": "code",
   "execution_count": 1,
   "id": "7fa0ec38-91de-4292-9de1-3dde99454c28",
   "metadata": {},
   "outputs": [
    {
     "name": "stdout",
     "output_type": "stream",
     "text": [
      "Word occurrences in alphabetical order:\n",
      "a: 2\n",
      "alphabetical: 1\n",
      "and: 1\n",
      "count: 2\n",
      "demonstrating: 1\n",
      "display: 1\n",
      "each: 1\n",
      "example: 1\n",
      "file: 3\n",
      "for: 1\n",
      "in: 2\n",
      "is: 3\n",
      "just: 1\n",
      "number: 1\n",
      "occurrences: 1\n",
      "of: 2\n",
      "order: 1\n",
      "program: 2\n",
      "results: 1\n",
      "sample: 1\n",
      "should: 1\n",
      "simple: 1\n",
      "text: 1\n",
      "the: 4\n",
      "this: 4\n",
      "used: 1\n",
      "word: 2\n"
     ]
    }
   ],
   "source": [
    "import string\n",
    "\n",
    "def count_word_occurrences(text):\n",
    "    # Remove punctuation and convert to lowercase\n",
    "    translator = str.maketrans('', '', string.punctuation)\n",
    "    text = text.translate(translator).lower()\n",
    "    \n",
    "    # Split the text into words\n",
    "    words = text.split()\n",
    "\n",
    "    # Count the occurrences of each word\n",
    "    word_counts = {}\n",
    "    for word in words:\n",
    "        if word in word_counts:\n",
    "            word_counts[word] += 1\n",
    "        else:\n",
    "            word_counts[word] = 1\n",
    "\n",
    "    # Sort the words alphabetically and display the counts\n",
    "    sorted_word_counts = dict(sorted(word_counts.items()))\n",
    "\n",
    "    return sorted_word_counts\n",
    "\n",
    "# Sample text for demonstration\n",
    "sample_text = \"\"\"\n",
    "This is a sample text file. This file is used for demonstrating the word count program.\n",
    "The program should count the number of occurrences of each word in this file and display\n",
    "the results in alphabetical order. This is just a simple example.\n",
    "\"\"\"\n",
    "\n",
    "# Get the word counts\n",
    "word_counts_output = count_word_occurrences(sample_text)\n",
    "\n",
    "# Print the results\n",
    "print(\"Word occurrences in alphabetical order:\")\n",
    "for word, count in word_counts_output.items():\n",
    "    print(f\"{word}: {count}\")\n"
   ]
  },
  {
   "cell_type": "code",
   "execution_count": null,
   "id": "0b98530f-31c0-41a5-9837-664f11a4eb7d",
   "metadata": {},
   "outputs": [],
   "source": []
  }
 ],
 "metadata": {
  "kernelspec": {
   "display_name": "Python 3 (ipykernel)",
   "language": "python",
   "name": "python3"
  },
  "language_info": {
   "codemirror_mode": {
    "name": "ipython",
    "version": 3
   },
   "file_extension": ".py",
   "mimetype": "text/x-python",
   "name": "python",
   "nbconvert_exporter": "python",
   "pygments_lexer": "ipython3",
   "version": "3.12.4"
  }
 },
 "nbformat": 4,
 "nbformat_minor": 5
}
