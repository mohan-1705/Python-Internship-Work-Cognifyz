{
 "cells": [
  {
   "cell_type": "code",
   "execution_count": null,
   "id": "359d7ba3-211b-420d-87e3-55ca450e12c8",
   "metadata": {},
   "outputs": [],
   "source": [
    "Task-1   Build a Web Scraper"
   ]
  },
  {
   "cell_type": "code",
   "execution_count": 3,
   "id": "9793c205-7562-4374-b1ac-d98a7d07596f",
   "metadata": {},
   "outputs": [
    {
     "name": "stdout",
     "output_type": "stream",
     "text": [
      "Requirement already satisfied: beautifulsoup4 in c:\\users\\mohan\\appdata\\local\\programs\\python\\python312\\lib\\site-packages (4.12.3)\n",
      "Requirement already satisfied: requests in c:\\users\\mohan\\appdata\\local\\programs\\python\\python312\\lib\\site-packages (2.32.3)\n",
      "Requirement already satisfied: soupsieve>1.2 in c:\\users\\mohan\\appdata\\local\\programs\\python\\python312\\lib\\site-packages (from beautifulsoup4) (2.5)\n",
      "Requirement already satisfied: charset-normalizer<4,>=2 in c:\\users\\mohan\\appdata\\local\\programs\\python\\python312\\lib\\site-packages (from requests) (3.3.2)\n",
      "Requirement already satisfied: idna<4,>=2.5 in c:\\users\\mohan\\appdata\\local\\programs\\python\\python312\\lib\\site-packages (from requests) (3.7)\n",
      "Requirement already satisfied: urllib3<3,>=1.21.1 in c:\\users\\mohan\\appdata\\local\\programs\\python\\python312\\lib\\site-packages (from requests) (2.2.1)\n",
      "Requirement already satisfied: certifi>=2017.4.17 in c:\\users\\mohan\\appdata\\local\\programs\\python\\python312\\lib\\site-packages (from requests) (2024.6.2)\n",
      "Note: you may need to restart the kernel to use updated packages.\n"
     ]
    },
    {
     "name": "stderr",
     "output_type": "stream",
     "text": [
      "\n",
      "[notice] A new release of pip is available: 24.0 -> 24.1.2\n",
      "[notice] To update, run: python.exe -m pip install --upgrade pip\n"
     ]
    }
   ],
   "source": [
    "pip install beautifulsoup4 requests"
   ]
  },
  {
   "cell_type": "code",
   "execution_count": 4,
   "id": "e1817d63-78c9-4a3d-9986-1d78282eb03e",
   "metadata": {},
   "outputs": [
    {
     "name": "stdout",
     "output_type": "stream",
     "text": [
      "Quote: “The world as we have created it is a process of our thinking. It cannot be changed without changing our thinking.”\n",
      "Author: Albert Einstein\n",
      "Tags: change, deep-thoughts, thinking, world\n",
      "------------\n",
      "Quote: “It is our choices, Harry, that show what we truly are, far more than our abilities.”\n",
      "Author: J.K. Rowling\n",
      "Tags: abilities, choices\n",
      "------------\n",
      "Quote: “There are only two ways to live your life. One is as though nothing is a miracle. The other is as though everything is a miracle.”\n",
      "Author: Albert Einstein\n",
      "Tags: inspirational, life, live, miracle, miracles\n",
      "------------\n",
      "Quote: “The person, be it gentleman or lady, who has not pleasure in a good novel, must be intolerably stupid.”\n",
      "Author: Jane Austen\n",
      "Tags: aliteracy, books, classic, humor\n",
      "------------\n",
      "Quote: “Imperfection is beauty, madness is genius and it's better to be absolutely ridiculous than absolutely boring.”\n",
      "Author: Marilyn Monroe\n",
      "Tags: be-yourself, inspirational\n",
      "------------\n",
      "Quote: “Try not to become a man of success. Rather become a man of value.”\n",
      "Author: Albert Einstein\n",
      "Tags: adulthood, success, value\n",
      "------------\n",
      "Quote: “It is better to be hated for what you are than to be loved for what you are not.”\n",
      "Author: André Gide\n",
      "Tags: life, love\n",
      "------------\n",
      "Quote: “I have not failed. I've just found 10,000 ways that won't work.”\n",
      "Author: Thomas A. Edison\n",
      "Tags: edison, failure, inspirational, paraphrased\n",
      "------------\n",
      "Quote: “A woman is like a tea bag; you never know how strong it is until it's in hot water.”\n",
      "Author: Eleanor Roosevelt\n",
      "Tags: misattributed-eleanor-roosevelt\n",
      "------------\n",
      "Quote: “A day without sunshine is like, you know, night.”\n",
      "Author: Steve Martin\n",
      "Tags: humor, obvious, simile\n",
      "------------\n"
     ]
    }
   ],
   "source": [
    "import requests\n",
    "from bs4 import BeautifulSoup\n",
    "\n",
    "url = \"http://quotes.toscrape.com/\"\n",
    "response = requests.get(url)\n",
    "\n",
    "soup = BeautifulSoup(response.text, 'html.parser')\n",
    "\n",
    "quotes = soup.find_all('div', class_='quote')\n",
    "\n",
    "for quote in quotes:\n",
    "    quote_text = quote.find('span', class_='text').text\n",
    "    author = quote.find('small', class_='author').text\n",
    "    tags = [tag.text for tag in quote.find('div', class_='tags').find_all('a', class_='tag')]\n",
    "\n",
    "    print(f\"Quote: {quote_text}\")\n",
    "    print(f\"Author: {author}\")\n",
    "    print(f\"Tags: {', '.join(tags)}\")\n",
    "    print(\"------------\")"
   ]
  },
  {
   "cell_type": "code",
   "execution_count": null,
   "id": "7a505466-6404-400b-bae8-a39b74fc0e50",
   "metadata": {},
   "outputs": [],
   "source": [
    "Task-2  Create a Data Visualization Tool"
   ]
  },
  {
   "cell_type": "code",
   "execution_count": 1,
   "id": "5f683aac-2a25-444d-b208-6824af6c86df",
   "metadata": {},
   "outputs": [
    {
     "name": "stdout",
     "output_type": "stream",
     "text": [
      "Requirement already satisfied: pandas in c:\\users\\mohan\\appdata\\local\\programs\\python\\python312\\lib\\site-packages (2.2.2)\n",
      "Requirement already satisfied: matplotlib in c:\\users\\mohan\\appdata\\local\\programs\\python\\python312\\lib\\site-packages (3.9.1)\n",
      "Collecting seaborn\n",
      "  Using cached seaborn-0.13.2-py3-none-any.whl.metadata (5.4 kB)\n",
      "Requirement already satisfied: plotly in c:\\users\\mohan\\appdata\\local\\programs\\python\\python312\\lib\\site-packages (5.22.0)\n",
      "Requirement already satisfied: numpy>=1.26.0 in c:\\users\\mohan\\appdata\\local\\programs\\python\\python312\\lib\\site-packages (from pandas) (2.0.0)\n",
      "Requirement already satisfied: python-dateutil>=2.8.2 in c:\\users\\mohan\\appdata\\local\\programs\\python\\python312\\lib\\site-packages (from pandas) (2.9.0.post0)\n",
      "Requirement already satisfied: pytz>=2020.1 in c:\\users\\mohan\\appdata\\local\\programs\\python\\python312\\lib\\site-packages (from pandas) (2024.1)\n",
      "Requirement already satisfied: tzdata>=2022.7 in c:\\users\\mohan\\appdata\\local\\programs\\python\\python312\\lib\\site-packages (from pandas) (2024.1)\n",
      "Requirement already satisfied: contourpy>=1.0.1 in c:\\users\\mohan\\appdata\\local\\programs\\python\\python312\\lib\\site-packages (from matplotlib) (1.2.1)\n",
      "Requirement already satisfied: cycler>=0.10 in c:\\users\\mohan\\appdata\\local\\programs\\python\\python312\\lib\\site-packages (from matplotlib) (0.12.1)\n",
      "Requirement already satisfied: fonttools>=4.22.0 in c:\\users\\mohan\\appdata\\local\\programs\\python\\python312\\lib\\site-packages (from matplotlib) (4.53.1)\n",
      "Requirement already satisfied: kiwisolver>=1.3.1 in c:\\users\\mohan\\appdata\\local\\programs\\python\\python312\\lib\\site-packages (from matplotlib) (1.4.5)\n",
      "Requirement already satisfied: packaging>=20.0 in c:\\users\\mohan\\appdata\\local\\programs\\python\\python312\\lib\\site-packages (from matplotlib) (24.1)\n",
      "Requirement already satisfied: pillow>=8 in c:\\users\\mohan\\appdata\\local\\programs\\python\\python312\\lib\\site-packages (from matplotlib) (10.4.0)\n",
      "Requirement already satisfied: pyparsing>=2.3.1 in c:\\users\\mohan\\appdata\\local\\programs\\python\\python312\\lib\\site-packages (from matplotlib) (3.1.2)\n",
      "Requirement already satisfied: tenacity>=6.2.0 in c:\\users\\mohan\\appdata\\local\\programs\\python\\python312\\lib\\site-packages (from plotly) (8.5.0)\n",
      "Requirement already satisfied: six>=1.5 in c:\\users\\mohan\\appdata\\local\\programs\\python\\python312\\lib\\site-packages (from python-dateutil>=2.8.2->pandas) (1.16.0)\n",
      "Using cached seaborn-0.13.2-py3-none-any.whl (294 kB)\n",
      "Installing collected packages: seaborn\n",
      "Successfully installed seaborn-0.13.2\n",
      "Note: you may need to restart the kernel to use updated packages.\n"
     ]
    },
    {
     "name": "stderr",
     "output_type": "stream",
     "text": [
      "\n",
      "[notice] A new release of pip is available: 24.0 -> 24.1.2\n",
      "[notice] To update, run: python.exe -m pip install --upgrade pip\n"
     ]
    }
   ],
   "source": [
    "pip install pandas matplotlib seaborn plotly"
   ]
  },
  {
   "cell_type": "code",
   "execution_count": 2,
   "id": "257c8c51-eb26-4655-ac53-26897736eaff",
   "metadata": {},
   "outputs": [],
   "source": [
    "import pandas as pd\n",
    "\n",
    "# Sample data\n",
    "data = {\n",
    "    'Category': ['A', 'B', 'C', 'D'],\n",
    "    'Values': [23, 45, 56, 78]\n",
    "}\n",
    "df = pd.DataFrame(data)\n"
   ]
  },
  {
   "cell_type": "code",
   "execution_count": 3,
   "id": "3a76263f-8065-468e-ac9f-cab43705ac02",
   "metadata": {},
   "outputs": [
    {
     "name": "stderr",
     "output_type": "stream",
     "text": [
      "C:\\Users\\mohan\\AppData\\Local\\Temp\\ipykernel_1764\\2484673669.py:11: FutureWarning: 'M' is deprecated and will be removed in a future version, please use 'ME' instead.\n",
      "  'Date': pd.date_range(start='1/1/2023', periods=4, freq='M')\n"
     ]
    },
    {
     "name": "stdout",
     "output_type": "stream",
     "text": [
      "Choose the type of plot:\n",
      "1. Bar Chart (Matplotlib)\n",
      "2. Bar Chart (Seaborn)\n",
      "3. Bar Chart (Plotly)\n",
      "4. Line Chart (Plotly)\n",
      "5. Scatter Plot (Plotly)\n"
     ]
    },
    {
     "name": "stdout",
     "output_type": "stream",
     "text": [
      "Enter the number of your choice:  2\n"
     ]
    },
    {
     "data": {
      "image/png": "[encoded data removed]",
      "text/plain": [
       "<Figure size 1000x600 with 1 Axes>"
      ]
     },
     "metadata": {},
     "output_type": "display_data"
    }
   ],
   "source": [
    "import pandas as pd\n",
    "import matplotlib.pyplot as plt\n",
    "import seaborn as sns\n",
    "import plotly.express as px\n",
    "\n",
    "def load_data():\n",
    "    # Sample data for demonstration\n",
    "    data = {\n",
    "        'Category': ['A', 'B', 'C', 'D'],\n",
    "        'Values': [23, 45, 56, 78],\n",
    "        'Date': pd.date_range(start='1/1/2023', periods=4, freq='M')\n",
    "    }\n",
    "    return pd.DataFrame(data)\n",
    "\n",
    "def plot_with_matplotlib(df):\n",
    "    plt.figure(figsize=(10, 6))\n",
    "    plt.bar(df['Category'], df['Values'], color='blue')\n",
    "    plt.xlabel('Category')\n",
    "    plt.ylabel('Values')\n",
    "    plt.title('Bar Chart using Matplotlib')\n",
    "    plt.show()\n",
    "\n",
    "def plot_with_seaborn(df):\n",
    "    plt.figure(figsize=(10, 6))\n",
    "    sns.barplot(x='Category', y='Values', data=df)\n",
    "    plt.xlabel('Category')\n",
    "    plt.ylabel('Values')\n",
    "    plt.title('Bar Chart using Seaborn')\n",
    "    plt.show()\n",
    "\n",
    "def plot_with_plotly(df):\n",
    "    fig = px.bar(df, x='Category', y='Values', title='Interactive Bar Chart using Plotly')\n",
    "    fig.show()\n",
    "\n",
    "def plot_line_chart(df):\n",
    "    fig = px.line(df, x='Date', y='Values', title='Line Chart using Plotly')\n",
    "    fig.show()\n",
    "\n",
    "def plot_scatter_chart(df):\n",
    "    fig = px.scatter(df, x='Category', y='Values', title='Scatter Plot using Plotly')\n",
    "    fig.show()\n",
    "\n",
    "def main():\n",
    "    df = load_data()\n",
    "\n",
    "    print(\"Choose the type of plot:\")\n",
    "    print(\"1. Bar Chart (Matplotlib)\")\n",
    "    print(\"2. Bar Chart (Seaborn)\")\n",
    "    print(\"3. Bar Chart (Plotly)\")\n",
    "    print(\"4. Line Chart (Plotly)\")\n",
    "    print(\"5. Scatter Plot (Plotly)\")\n",
    "    \n",
    "    choice = input(\"Enter the number of your choice: \")\n",
    "\n",
    "    if choice == '1':\n",
    "        plot_with_matplotlib(df)\n",
    "    elif choice == '2':\n",
    "        plot_with_seaborn(df)\n",
    "    elif choice == '3':\n",
    "        plot_with_plotly(df)\n",
    "    elif choice == '4':\n",
    "        plot_line_chart(df)\n",
    "    elif choice == '5':\n",
    "        plot_scatter_chart(df)\n",
    "    else:\n",
    "        print(\"Invalid choice. Please select a valid option.\")\n",
    "\n",
    "if __name__ == \"__main__\":\n",
    "    main()\n"
   ]
  },
  {
   "cell_type": "code",
   "execution_count": null,
   "id": "40f66ccd-45ed-482e-bc7a-bd5196f25cf2",
   "metadata": {},
   "outputs": [],
   "source": [
    "Task-3  Automate a Task"
   ]
  },
  {
   "cell_type": "code",
   "execution_count": 11,
   "id": "1bdeb13a-2ae1-4c59-86ee-31c1c03289b2",
   "metadata": {},
   "outputs": [
    {
     "name": "stdout",
     "output_type": "stream",
     "text": [
      "Enter the path to the directory:  C:\\Users\\mohan\\Downloads\\shirt1.jpg\n",
      "Enter the prefix to add to each file:  \n"
     ]
    },
    {
     "name": "stdout",
     "output_type": "stream",
     "text": [
      "An error occurred: [WinError 267] The directory name is invalid: 'C:\\\\Users\\\\mohan\\\\Downloads\\\\shirt1.jpg'\n"
     ]
    }
   ],
   "source": [
    "import os\n",
    "\n",
    "def rename_files(directory, prefix):\n",
    "    try:\n",
    "        # List all files in the specified directory\n",
    "        files = os.listdir(directory)\n",
    "        \n",
    "        for filename in files:\n",
    "            # Construct the full file path\n",
    "            old_file = os.path.join(directory, filename)\n",
    "            \n",
    "            # Skip directories\n",
    "            if os.path.isdir(old_file):\n",
    "                continue\n",
    "            \n",
    "            # Construct the new filename\n",
    "            new_filename = prefix + filename\n",
    "            new_file = os.path.join(directory, new_filename)\n",
    "            \n",
    "            # Rename the file\n",
    "            os.rename(old_file, new_file)\n",
    "            print(f'Renamed: {old_file} to {new_file}')\n",
    "        \n",
    "        print(\"All files have been renamed successfully.\")\n",
    "        \n",
    "    except Exception as e:\n",
    "        print(f\"An error occurred: {e}\")\n",
    "\n",
    "def main():\n",
    "    directory = input(\"Enter the path to the directory: \")\n",
    "    prefix = input(\"Enter the prefix to add to each file: \")\n",
    "    \n",
    "    rename_files(directory, prefix)\n",
    "\n",
    "if __name__ == \"__main__\":\n",
    "    main()\n"
   ]
  },
  {
   "cell_type": "code",
   "execution_count": null,
   "id": "b2eab5d9-43ce-4a14-8827-e8dedea0662d",
   "metadata": {},
   "outputs": [],
   "source": [
    "python file_renamer.py\n"
   ]
  },
  {
   "cell_type": "code",
   "execution_count": 12,
   "id": "d1327abc-70e3-4eba-aecc-8317293dfcd6",
   "metadata": {},
   "outputs": [
    {
     "name": "stdout",
     "output_type": "stream",
     "text": [
      "Enter the path to the directory:  \"C:\\Users\\mohan\\OneDrive\\Documents\\DataSet_details.docx\"\n",
      "Enter the prefix to add to each image file:  Data\n"
     ]
    },
    {
     "name": "stdout",
     "output_type": "stream",
     "text": [
      "An error occurred: [WinError 123] The filename, directory name, or volume label syntax is incorrect: '\"C:\\\\Users\\\\mohan\\\\OneDrive\\\\Documents\\\\DataSet_details.docx\"'\n"
     ]
    }
   ],
   "source": [
    "import os\n",
    "\n",
    "def rename_image_files(directory, prefix):\n",
    "    try:\n",
    "        # List all files in the specified directory\n",
    "        files = os.listdir(directory)\n",
    "        \n",
    "        for filename in files:\n",
    "            # Construct the full file path\n",
    "            old_file = os.path.join(directory, filename)\n",
    "            \n",
    "            # Skip directories\n",
    "            if os.path.isdir(old_file):\n",
    "                continue\n",
    "            \n",
    "            # Check if the file is an image (common image file extensions)\n",
    "            if filename.lower().endswith(('.png', '.jpg', '.jpeg', '.gif', '.bmp', '.tiff')):\n",
    "                # Construct the new filename\n",
    "                new_filename = prefix + filename\n",
    "                new_file = os.path.join(directory, new_filename)\n",
    "                \n",
    "                # Rename the file\n",
    "                os.rename(old_file, new_file)\n",
    "                print(f'Renamed: {old_file} to {new_file}')\n",
    "        \n",
    "        print(\"All image files have been renamed successfully.\")\n",
    "        \n",
    "    except Exception as e:\n",
    "        print(f\"An error occurred: {e}\")\n",
    "\n",
    "def main():\n",
    "    # Prompt user for the directory path and prefix\n",
    "    directory = input(\"Enter the path to the directory: \")\n",
    "    prefix = input(\"Enter the prefix to add to each image file: \")\n",
    "    \n",
    "    rename_image_files(directory, prefix)\n",
    "\n",
    "if __name__ == \"__main__\":\n",
    "    main()\n"
   ]
  },
  {
   "cell_type": "code",
   "execution_count": null,
   "id": "004ad98d-4093-49c9-9187-f0fed595ddcb",
   "metadata": {},
   "outputs": [],
   "source": []
  }
 ],
 "metadata": {
  "kernelspec": {
   "display_name": "Python 3 (ipykernel)",
   "language": "python",
   "name": "python3"
  },
  "language_info": {
   "codemirror_mode": {
    "name": "ipython",
    "version": 3
   },
   "file_extension": ".py",
   "mimetype": "text/x-python",
   "name": "python",
   "nbconvert_exporter": "python",
   "pygments_lexer": "ipython3",
   "version": "3.12.4"
  }
 },
 "nbformat": 4,
 "nbformat_minor": 5
}
