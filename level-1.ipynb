{
 "cells": [
  {
   "cell_type": "code",
   "execution_count": null,
   "id": "c7b3cfb5-9934-4530-834f-88716cb6cd0b",
   "metadata": {},
   "outputs": [],
   "source": [
    "Task-1"
   ]
  },
  {
   "cell_type": "code",
   "execution_count": 3,
   "id": "a0ca624e-1a0e-477e-9648-660babfdc32c",
   "metadata": {},
   "outputs": [
    {
     "name": "stdout",
     "output_type": "stream",
     "text": [
      "!dlroW olleH\n"
     ]
    }
   ],
   "source": [
    "original_string = \"Hello World!\"\n",
    "reversed_string = original_string[::-1]\n",
    "print(reversed_string)\n"
   ]
  },
  {
   "cell_type": "code",
   "execution_count": null,
   "id": "c0fa4a4b-4723-439e-8177-719bcb4fbd3a",
   "metadata": {},
   "outputs": [],
   "source": [
    "Task-2"
   ]
  },
  {
   "cell_type": "code",
   "execution_count": 3,
   "id": "e951dc98-54c5-47c9-9ad8-3cc1cf45b7a9",
   "metadata": {},
   "outputs": [
    {
     "name": "stdout",
     "output_type": "stream",
     "text": [
      "25°C is 77.0°F\n"
     ]
    }
   ],
   "source": [
    "def celsius_to_fahrenheit(celsius):\n",
    "    return (celsius * 9/5) + 32\n",
    "\n",
    "# Example usage\n",
    "celsius = 25\n",
    "fahrenheit = celsius_to_fahrenheit(celsius)\n",
    "print(f\"{celsius}°C is {fahrenheit}°F\")\n"
   ]
  },
  {
   "cell_type": "code",
   "execution_count": null,
   "id": "f9c09f3c-f4b1-4bdc-8a9c-2a1939c72850",
   "metadata": {},
   "outputs": [],
   "source": [
    "Task-3"
   ]
  },
  {
   "cell_type": "code",
   "execution_count": 5,
   "id": "f85632d6-1974-466d-b74c-90d35e9d4256",
   "metadata": {},
   "outputs": [
    {
     "name": "stdout",
     "output_type": "stream",
     "text": [
      "mohan@gmail.com is a valid email address.\n",
      "mohan@ is not a valid email address.\n",
      "chodabathulamohan_123#234@gmail.com is not a valid email address.\n",
      "mohan@123.gmail.com is a valid email address.\n",
      "mohan@.com is not a valid email address.\n"
     ]
    }
   ],
   "source": [
    "import re\n",
    "\n",
    "def is_valid_email(email):\n",
    "    # Define the regular expression pattern for a valid email\n",
    "    email_regex = r'^[a-zA-Z0-9_.+-]+@[a-zA-Z0-9-]+\\.[a-zA-Z0-9-.]+$'\n",
    "    \n",
    "    # Match the email against the regex pattern\n",
    "    if re.match(email_regex, email):\n",
    "        return True\n",
    "    else:\n",
    "        return False\n",
    "\n",
    "# Example usage\n",
    "emails = [\"mohan@gmail.com\", \"mohan@\", \"chodabathulamohan_123#234@gmail.com\", \"mohan@123.gmail.com\", \"mohan@.com\"]\n",
    "\n",
    "for email in emails:\n",
    "    if is_valid_email(email):\n",
    "        print(f\"{email} is a valid email address.\")\n",
    "    else:\n",
    "        print(f\"{email} is not a valid email address.\")\n"
   ]
  },
  {
   "cell_type": "code",
   "execution_count": null,
   "id": "d48a2cde-bc79-4584-aebc-ec6292091a49",
   "metadata": {},
   "outputs": [],
   "source": [
    "Task-4"
   ]
  },
  {
   "cell_type": "code",
   "execution_count": 1,
   "id": "2a1718a5-ecdb-4dea-a1e0-f8c6eba1fd74",
   "metadata": {},
   "outputs": [
    {
     "name": "stdout",
     "output_type": "stream",
     "text": [
      "Select operation:\n",
      "1. Add\n",
      "2. Subtract\n",
      "3. Multiply\n",
      "4. Divide\n"
     ]
    },
    {
     "name": "stdin",
     "output_type": "stream",
     "text": [
      "Enter choice (1/2/3/4):  1\n",
      "Enter first number:  13\n",
      "Enter second number:  23\n"
     ]
    },
    {
     "name": "stdout",
     "output_type": "stream",
     "text": [
      "13.0 + 23.0 = 36.0\n"
     ]
    },
    {
     "name": "stdin",
     "output_type": "stream",
     "text": [
      "Do you want to perform another calculation? (yes/no):  yes\n",
      "Enter choice (1/2/3/4):  2\n",
      "Enter first number:  12\n",
      "Enter second number:  12\n"
     ]
    },
    {
     "name": "stdout",
     "output_type": "stream",
     "text": [
      "12.0 - 12.0 = 0.0\n"
     ]
    },
    {
     "name": "stdin",
     "output_type": "stream",
     "text": [
      "Do you want to perform another calculation? (yes/no):  yes\n",
      "Enter choice (1/2/3/4):  3\n",
      "Enter first number:  14\n",
      "Enter second number:  14\n"
     ]
    },
    {
     "name": "stdout",
     "output_type": "stream",
     "text": [
      "14.0 * 14.0 = 196.0\n"
     ]
    },
    {
     "name": "stdin",
     "output_type": "stream",
     "text": [
      "Do you want to perform another calculation? (yes/no):  yes\n",
      "Enter choice (1/2/3/4):  4\n",
      "Enter first number:  144\n",
      "Enter second number:  12\n"
     ]
    },
    {
     "name": "stdout",
     "output_type": "stream",
     "text": [
      "144.0 / 12.0 = 12.0\n"
     ]
    },
    {
     "name": "stdin",
     "output_type": "stream",
     "text": [
      "Do you want to perform another calculation? (yes/no):  no\n"
     ]
    }
   ],
   "source": [
    "def add(x, y):\n",
    "    return x + y\n",
    "\n",
    "def subtract(x, y):\n",
    "    return x - y\n",
    "\n",
    "def multiply(x, y):\n",
    "    return x * y\n",
    "\n",
    "def divide(x, y):\n",
    "    if y == 0:\n",
    "        return \"Error! Division by zero.\"\n",
    "    return x / y\n",
    "\n",
    "def calculator():\n",
    "    print(\"Select operation:\")\n",
    "    print(\"1. Add\")\n",
    "    print(\"2. Subtract\")\n",
    "    print(\"3. Multiply\")\n",
    "    print(\"4. Divide\")\n",
    "    \n",
    "    while True:\n",
    "        choice = input(\"Enter choice (1/2/3/4): \")\n",
    "        \n",
    "        if choice in ['1', '2', '3', '4']:\n",
    "            try:\n",
    "                num1 = float(input(\"Enter first number: \"))\n",
    "                num2 = float(input(\"Enter second number: \"))\n",
    "            except ValueError:\n",
    "                print(\"Invalid input! Please enter numeric values.\")\n",
    "                continue\n",
    "\n",
    "            if choice == '1':\n",
    "                print(f\"{num1} + {num2} = {add(num1, num2)}\")\n",
    "            elif choice == '2':\n",
    "                print(f\"{num1} - {num2} = {subtract(num1, num2)}\")\n",
    "            elif choice == '3':\n",
    "                print(f\"{num1} * {num2} = {multiply(num1, num2)}\")\n",
    "            elif choice == '4':\n",
    "                result = divide(num1, num2)\n",
    "                if result == \"Error! Division by zero.\":\n",
    "                    print(result)\n",
    "                else:\n",
    "                    print(f\"{num1} / {num2} = {result}\")\n",
    "            \n",
    "            next_calculation = input(\"Do you want to perform another calculation? (yes/no): \")\n",
    "            if next_calculation.lower() != 'yes':\n",
    "                break\n",
    "        else:\n",
    "            print(\"Invalid input! Please enter a choice from 1 to 4.\")\n",
    "\n",
    "if __name__ == \"__main__\":\n",
    "    calculator()\n"
   ]
  },
  {
   "cell_type": "code",
   "execution_count": null,
   "id": "0dc6e5f1-07da-48ac-85d5-e4b520e62d35",
   "metadata": {},
   "outputs": [],
   "source": [
    "Task-5"
   ]
  },
  {
   "cell_type": "code",
   "execution_count": 2,
   "id": "b7be8544-5868-4c9b-b081-040fa5304a70",
   "metadata": {},
   "outputs": [
    {
     "name": "stdout",
     "output_type": "stream",
     "text": [
      "'A man, a plan, a canal, Panama' is a palindrome.\n",
      "'racecar' is a palindrome.\n",
      "'hello' is not a palindrome.\n",
      "'12321' is a palindrome.\n",
      "'Not a palindrome' is not a palindrome.\n"
     ]
    }
   ],
   "source": [
    "def is_palindrome(s):\n",
    "    # Remove non-alphanumeric characters and convert to lowercase\n",
    "    cleaned_string = ''.join(char.lower() for char in s if char.isalnum())\n",
    "    # Check if the cleaned string is equal to its reverse\n",
    "    return cleaned_string == cleaned_string[::-1]\n",
    "\n",
    "# Example usage\n",
    "strings = [\"A man, a plan, a canal, Panama\", \"racecar\", \"hello\", \"12321\", \"Not a palindrome\"]\n",
    "\n",
    "for s in strings:\n",
    "    if is_palindrome(s):\n",
    "        print(f\"'{s}' is a palindrome.\")\n",
    "    else:\n",
    "        print(f\"'{s}' is not a palindrome.\")\n"
   ]
  },
  {
   "cell_type": "code",
   "execution_count": null,
   "id": "09362492-5835-4a35-a040-143571d97e9d",
   "metadata": {},
   "outputs": [],
   "source": []
  }
 ],
 "metadata": {
  "kernelspec": {
   "display_name": "Python 3 (ipykernel)",
   "language": "python",
   "name": "python3"
  },
  "language_info": {
   "codemirror_mode": {
    "name": "ipython",
    "version": 3
   },
   "file_extension": ".py",
   "mimetype": "text/x-python",
   "name": "python",
   "nbconvert_exporter": "python",
   "pygments_lexer": "ipython3",
   "version": "3.12.4"
  }
 },
 "nbformat": 4,
 "nbformat_minor": 5
}
